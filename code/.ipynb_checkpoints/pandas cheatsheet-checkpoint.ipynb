{
 "cells": [
  {
   "cell_type": "markdown",
   "metadata": {},
   "source": [
    "Here is a quick intro to pandas, hopefully showing how to do most simple things! "
   ]
  },
  {
   "cell_type": "markdown",
   "metadata": {},
   "source": [
    "See the documentation for a full list of functions - this is very helpful! https://pandas.pydata.org/pandas-docs/stable/reference/io.html"
   ]
  },
  {
   "cell_type": "markdown",
   "metadata": {},
   "source": [
    "# Introduction to pandas"
   ]
  },
  {
   "cell_type": "markdown",
   "metadata": {},
   "source": [
    "To import pandas:"
   ]
  },
  {
   "cell_type": "code",
   "execution_count": 5,
   "metadata": {},
   "outputs": [],
   "source": [
    "import pandas as pd"
   ]
  },
  {
   "cell_type": "markdown",
   "metadata": {},
   "source": [
    "other useful packages:"
   ]
  },
  {
   "cell_type": "code",
   "execution_count": 35,
   "metadata": {},
   "outputs": [],
   "source": [
    "import numpy as np\n",
    "from datetime import datetime, timedelta"
   ]
  },
  {
   "cell_type": "markdown",
   "metadata": {},
   "source": [
    "## Creating a dataframe"
   ]
  },
  {
   "cell_type": "markdown",
   "metadata": {},
   "source": [
    "The main component of the pandas module is the DataFrame object. You can make dataframes from arrays, or load many different file types as dataframes."
   ]
  },
  {
   "cell_type": "markdown",
   "metadata": {},
   "source": [
    "To load a .csv file as a dataframe:"
   ]
  },
  {
   "cell_type": "code",
   "execution_count": 141,
   "metadata": {},
   "outputs": [],
   "source": [
    "df = pd.read_csv(r\"C:\\Users\\shann\\OneDrive\\Documents\\Research\\Workspace\\Data\\SSW\\HCME_B__20081212_01_pa_slice_264_degrees.csv\")"
   ]
  },
  {
   "cell_type": "markdown",
   "metadata": {},
   "source": [
    "This is what the df looks like:"
   ]
  },
  {
   "cell_type": "code",
   "execution_count": 11,
   "metadata": {},
   "outputs": [
    {
     "data": {
      "text/html": [
       "<div>\n",
       "<style scoped>\n",
       "    .dataframe tbody tr th:only-of-type {\n",
       "        vertical-align: middle;\n",
       "    }\n",
       "\n",
       "    .dataframe tbody tr th {\n",
       "        vertical-align: top;\n",
       "    }\n",
       "\n",
       "    .dataframe thead th {\n",
       "        text-align: right;\n",
       "    }\n",
       "</style>\n",
       "<table border=\"1\" class=\"dataframe\">\n",
       "  <thead>\n",
       "    <tr style=\"text-align: right;\">\n",
       "      <th></th>\n",
       "      <th>Unnamed: 0</th>\n",
       "      <th>time</th>\n",
       "      <th>front</th>\n",
       "      <th>el</th>\n",
       "      <th>el_lo</th>\n",
       "      <th>el_hi</th>\n",
       "    </tr>\n",
       "  </thead>\n",
       "  <tbody>\n",
       "    <tr>\n",
       "      <th>0</th>\n",
       "      <td>0</td>\n",
       "      <td>2008-12-12 15:29:37</td>\n",
       "      <td>Draw INNER front</td>\n",
       "      <td>5.057011</td>\n",
       "      <td>4.550341</td>\n",
       "      <td>5.564929</td>\n",
       "    </tr>\n",
       "    <tr>\n",
       "      <th>1</th>\n",
       "      <td>1</td>\n",
       "      <td>2008-12-12 16:09:36</td>\n",
       "      <td>Draw INNER front</td>\n",
       "      <td>5.584429</td>\n",
       "      <td>5.076464</td>\n",
       "      <td>6.093670</td>\n",
       "    </tr>\n",
       "    <tr>\n",
       "      <th>2</th>\n",
       "      <td>2</td>\n",
       "      <td>2008-12-12 16:49:37</td>\n",
       "      <td>Draw INNER front</td>\n",
       "      <td>6.483638</td>\n",
       "      <td>5.993232</td>\n",
       "      <td>6.994703</td>\n",
       "    </tr>\n",
       "    <tr>\n",
       "      <th>3</th>\n",
       "      <td>3</td>\n",
       "      <td>2008-12-12 17:29:37</td>\n",
       "      <td>Draw INNER front</td>\n",
       "      <td>6.130293</td>\n",
       "      <td>5.660101</td>\n",
       "      <td>6.620981</td>\n",
       "    </tr>\n",
       "    <tr>\n",
       "      <th>4</th>\n",
       "      <td>4</td>\n",
       "      <td>2008-12-12 18:09:36</td>\n",
       "      <td>Draw INNER front</td>\n",
       "      <td>6.365852</td>\n",
       "      <td>5.914865</td>\n",
       "      <td>6.837347</td>\n",
       "    </tr>\n",
       "    <tr>\n",
       "      <th>...</th>\n",
       "      <td>...</td>\n",
       "      <td>...</td>\n",
       "      <td>...</td>\n",
       "      <td>...</td>\n",
       "      <td>...</td>\n",
       "      <td>...</td>\n",
       "    </tr>\n",
       "    <tr>\n",
       "      <th>121</th>\n",
       "      <td>37</td>\n",
       "      <td>2008-12-13 16:09:36</td>\n",
       "      <td>Draw THIRD front</td>\n",
       "      <td>15.065154</td>\n",
       "      <td>14.586565</td>\n",
       "      <td>15.603429</td>\n",
       "    </tr>\n",
       "    <tr>\n",
       "      <th>122</th>\n",
       "      <td>38</td>\n",
       "      <td>2008-12-13 16:49:36</td>\n",
       "      <td>Draw THIRD front</td>\n",
       "      <td>16.557358</td>\n",
       "      <td>15.999618</td>\n",
       "      <td>17.074903</td>\n",
       "    </tr>\n",
       "    <tr>\n",
       "      <th>123</th>\n",
       "      <td>39</td>\n",
       "      <td>2008-12-13 17:29:36</td>\n",
       "      <td>Draw THIRD front</td>\n",
       "      <td>NaN</td>\n",
       "      <td>NaN</td>\n",
       "      <td>NaN</td>\n",
       "    </tr>\n",
       "    <tr>\n",
       "      <th>124</th>\n",
       "      <td>40</td>\n",
       "      <td>2008-12-13 18:09:36</td>\n",
       "      <td>Draw THIRD front</td>\n",
       "      <td>NaN</td>\n",
       "      <td>NaN</td>\n",
       "      <td>NaN</td>\n",
       "    </tr>\n",
       "    <tr>\n",
       "      <th>125</th>\n",
       "      <td>41</td>\n",
       "      <td>2008-12-13 18:49:36</td>\n",
       "      <td>Draw THIRD front</td>\n",
       "      <td>NaN</td>\n",
       "      <td>NaN</td>\n",
       "      <td>NaN</td>\n",
       "    </tr>\n",
       "  </tbody>\n",
       "</table>\n",
       "<p>126 rows × 6 columns</p>\n",
       "</div>"
      ],
      "text/plain": [
       "     Unnamed: 0                 time             front         el      el_lo  \\\n",
       "0             0  2008-12-12 15:29:37  Draw INNER front   5.057011   4.550341   \n",
       "1             1  2008-12-12 16:09:36  Draw INNER front   5.584429   5.076464   \n",
       "2             2  2008-12-12 16:49:37  Draw INNER front   6.483638   5.993232   \n",
       "3             3  2008-12-12 17:29:37  Draw INNER front   6.130293   5.660101   \n",
       "4             4  2008-12-12 18:09:36  Draw INNER front   6.365852   5.914865   \n",
       "..          ...                  ...               ...        ...        ...   \n",
       "121          37  2008-12-13 16:09:36  Draw THIRD front  15.065154  14.586565   \n",
       "122          38  2008-12-13 16:49:36  Draw THIRD front  16.557358  15.999618   \n",
       "123          39  2008-12-13 17:29:36  Draw THIRD front        NaN        NaN   \n",
       "124          40  2008-12-13 18:09:36  Draw THIRD front        NaN        NaN   \n",
       "125          41  2008-12-13 18:49:36  Draw THIRD front        NaN        NaN   \n",
       "\n",
       "         el_hi  \n",
       "0     5.564929  \n",
       "1     6.093670  \n",
       "2     6.994703  \n",
       "3     6.620981  \n",
       "4     6.837347  \n",
       "..         ...  \n",
       "121  15.603429  \n",
       "122  17.074903  \n",
       "123        NaN  \n",
       "124        NaN  \n",
       "125        NaN  \n",
       "\n",
       "[126 rows x 6 columns]"
      ]
     },
     "execution_count": 11,
     "metadata": {},
     "output_type": "execute_result"
    }
   ],
   "source": [
    "df"
   ]
  },
  {
   "cell_type": "markdown",
   "metadata": {},
   "source": [
    "You can see which columns the df contains:"
   ]
  },
  {
   "cell_type": "code",
   "execution_count": 13,
   "metadata": {},
   "outputs": [
    {
     "data": {
      "text/plain": [
       "Index(['Unnamed: 0', 'time', 'front', 'el', 'el_lo', 'el_hi'], dtype='object')"
      ]
     },
     "execution_count": 13,
     "metadata": {},
     "output_type": "execute_result"
    }
   ],
   "source": [
    "df.columns"
   ]
  },
  {
   "cell_type": "markdown",
   "metadata": {},
   "source": [
    "How many rows the df contains:"
   ]
  },
  {
   "cell_type": "code",
   "execution_count": 14,
   "metadata": {},
   "outputs": [
    {
     "data": {
      "text/plain": [
       "126"
      ]
     },
     "execution_count": 14,
     "metadata": {},
     "output_type": "execute_result"
    }
   ],
   "source": [
    "len(df)"
   ]
  },
  {
   "cell_type": "markdown",
   "metadata": {},
   "source": [
    "When you create a dataframe, it's important to make sure that the columns are the correct data type. Usually pandas guesses the data type correctly, but it never seems to notice dates - the column 'time' has been read as list of strings, and needs to be converted to a list of datetime instances."
   ]
  },
  {
   "cell_type": "code",
   "execution_count": 53,
   "metadata": {},
   "outputs": [],
   "source": [
    "df['time'] = pd.to_datetime(df['time'])"
   ]
  },
  {
   "cell_type": "markdown",
   "metadata": {},
   "source": [
    "You can change the data type of a column using:"
   ]
  },
  {
   "cell_type": "code",
   "execution_count": 56,
   "metadata": {},
   "outputs": [],
   "source": [
    "df['el'] = df['el'].astype(str)"
   ]
  },
  {
   "cell_type": "markdown",
   "metadata": {},
   "source": [
    "## Selecting data"
   ]
  },
  {
   "cell_type": "markdown",
   "metadata": {},
   "source": [
    "You can select a column with one of the following:"
   ]
  },
  {
   "cell_type": "code",
   "execution_count": 15,
   "metadata": {},
   "outputs": [
    {
     "data": {
      "text/plain": [
       "0      2008-12-12 15:29:37\n",
       "1      2008-12-12 16:09:36\n",
       "2      2008-12-12 16:49:37\n",
       "3      2008-12-12 17:29:37\n",
       "4      2008-12-12 18:09:36\n",
       "              ...         \n",
       "121    2008-12-13 16:09:36\n",
       "122    2008-12-13 16:49:36\n",
       "123    2008-12-13 17:29:36\n",
       "124    2008-12-13 18:09:36\n",
       "125    2008-12-13 18:49:36\n",
       "Name: time, Length: 126, dtype: object"
      ]
     },
     "execution_count": 15,
     "metadata": {},
     "output_type": "execute_result"
    }
   ],
   "source": [
    "df['time']\n",
    "df.time"
   ]
  },
  {
   "cell_type": "markdown",
   "metadata": {},
   "source": [
    "To select a value from a column, you use the index of the dataframe row (the first column above!)."
   ]
  },
  {
   "cell_type": "code",
   "execution_count": 16,
   "metadata": {},
   "outputs": [
    {
     "data": {
      "text/plain": [
       "RangeIndex(start=0, stop=126, step=1)"
      ]
     },
     "execution_count": 16,
     "metadata": {},
     "output_type": "execute_result"
    }
   ],
   "source": [
    "df.index"
   ]
  },
  {
   "cell_type": "code",
   "execution_count": 19,
   "metadata": {},
   "outputs": [
    {
     "data": {
      "text/plain": [
       "'2008-12-12 15:29:37'"
      ]
     },
     "execution_count": 19,
     "metadata": {},
     "output_type": "execute_result"
    }
   ],
   "source": [
    "df['time'][0]"
   ]
  },
  {
   "cell_type": "markdown",
   "metadata": {},
   "source": [
    "You can create a new dataframe containing a subset of the data. For example, here we are making a new dataframe containing all rows for which the 'el' value is greater than 20."
   ]
  },
  {
   "cell_type": "code",
   "execution_count": 82,
   "metadata": {},
   "outputs": [
    {
     "data": {
      "text/html": [
       "<div>\n",
       "<style scoped>\n",
       "    .dataframe tbody tr th:only-of-type {\n",
       "        vertical-align: middle;\n",
       "    }\n",
       "\n",
       "    .dataframe tbody tr th {\n",
       "        vertical-align: top;\n",
       "    }\n",
       "\n",
       "    .dataframe thead th {\n",
       "        text-align: right;\n",
       "    }\n",
       "</style>\n",
       "<table border=\"1\" class=\"dataframe\">\n",
       "  <thead>\n",
       "    <tr style=\"text-align: right;\">\n",
       "      <th></th>\n",
       "      <th>time</th>\n",
       "      <th>front</th>\n",
       "      <th>el</th>\n",
       "      <th>el_lo</th>\n",
       "      <th>el_hi</th>\n",
       "      <th>new_column</th>\n",
       "      <th>el_plus_el_hi</th>\n",
       "    </tr>\n",
       "  </thead>\n",
       "  <tbody>\n",
       "    <tr>\n",
       "      <th>40</th>\n",
       "      <td>2008-12-13 18:09:36</td>\n",
       "      <td>Draw INNER front</td>\n",
       "      <td>20.445181</td>\n",
       "      <td>19.872360</td>\n",
       "      <td>21.036732</td>\n",
       "      <td>40.0</td>\n",
       "      <td>41.481913</td>\n",
       "    </tr>\n",
       "    <tr>\n",
       "      <th>41</th>\n",
       "      <td>2008-12-13 18:49:36</td>\n",
       "      <td>Draw INNER front</td>\n",
       "      <td>20.622492</td>\n",
       "      <td>20.010342</td>\n",
       "      <td>21.174168</td>\n",
       "      <td>41.0</td>\n",
       "      <td>41.796659</td>\n",
       "    </tr>\n",
       "    <tr>\n",
       "      <th>76</th>\n",
       "      <td>2008-12-13 14:09:36</td>\n",
       "      <td>Draw OUTER front</td>\n",
       "      <td>20.488758</td>\n",
       "      <td>19.381855</td>\n",
       "      <td>21.198208</td>\n",
       "      <td>76.0</td>\n",
       "      <td>41.686966</td>\n",
       "    </tr>\n",
       "    <tr>\n",
       "      <th>77</th>\n",
       "      <td>2008-12-13 14:49:37</td>\n",
       "      <td>Draw OUTER front</td>\n",
       "      <td>21.866392</td>\n",
       "      <td>20.744900</td>\n",
       "      <td>22.454554</td>\n",
       "      <td>77.0</td>\n",
       "      <td>44.320946</td>\n",
       "    </tr>\n",
       "    <tr>\n",
       "      <th>81</th>\n",
       "      <td>2008-12-13 17:29:36</td>\n",
       "      <td>Draw OUTER front</td>\n",
       "      <td>20.978369</td>\n",
       "      <td>19.833517</td>\n",
       "      <td>22.059446</td>\n",
       "      <td>81.0</td>\n",
       "      <td>43.037815</td>\n",
       "    </tr>\n",
       "    <tr>\n",
       "      <th>82</th>\n",
       "      <td>2008-12-13 18:09:36</td>\n",
       "      <td>Draw OUTER front</td>\n",
       "      <td>22.340115</td>\n",
       "      <td>21.338762</td>\n",
       "      <td>22.985928</td>\n",
       "      <td>82.0</td>\n",
       "      <td>45.326042</td>\n",
       "    </tr>\n",
       "  </tbody>\n",
       "</table>\n",
       "</div>"
      ],
      "text/plain": [
       "                  time             front         el      el_lo      el_hi  \\\n",
       "40 2008-12-13 18:09:36  Draw INNER front  20.445181  19.872360  21.036732   \n",
       "41 2008-12-13 18:49:36  Draw INNER front  20.622492  20.010342  21.174168   \n",
       "76 2008-12-13 14:09:36  Draw OUTER front  20.488758  19.381855  21.198208   \n",
       "77 2008-12-13 14:49:37  Draw OUTER front  21.866392  20.744900  22.454554   \n",
       "81 2008-12-13 17:29:36  Draw OUTER front  20.978369  19.833517  22.059446   \n",
       "82 2008-12-13 18:09:36  Draw OUTER front  22.340115  21.338762  22.985928   \n",
       "\n",
       "    new_column  el_plus_el_hi  \n",
       "40        40.0      41.481913  \n",
       "41        41.0      41.796659  \n",
       "76        76.0      41.686966  \n",
       "77        77.0      44.320946  \n",
       "81        81.0      43.037815  \n",
       "82        82.0      45.326042  "
      ]
     },
     "execution_count": 82,
     "metadata": {},
     "output_type": "execute_result"
    }
   ],
   "source": [
    "new_df = df[df['el'] > 20]\n",
    "new_df"
   ]
  },
  {
   "cell_type": "markdown",
   "metadata": {},
   "source": [
    "More examples:"
   ]
  },
  {
   "cell_type": "code",
   "execution_count": 76,
   "metadata": {},
   "outputs": [],
   "source": [
    "new_df2 = df[df['front'] == \"Draw INNER front\"]\n",
    "new_df3 = df[df['time'] > datetime(2008, 12, 12, 12, 12)]"
   ]
  },
  {
   "cell_type": "markdown",
   "metadata": {},
   "source": [
    "To load column values which meet a condition:"
   ]
  },
  {
   "cell_type": "code",
   "execution_count": 78,
   "metadata": {},
   "outputs": [
    {
     "data": {
      "text/plain": [
       "0     2008-12-12 15:29:37.000000\n",
       "1     2008-12-12 16:09:36.000000\n",
       "87    2008-12-12 17:29:37.000000\n",
       "88    2008-12-12 18:09:36.000000\n",
       "89    2008-12-12 18:49:36.000000\n",
       "90    2008-12-12 19:29:36.000000\n",
       "91    2008-12-12 20:09:36.000000\n",
       "92    2008-12-12 20:49:36.000000\n",
       "127   2020-08-25 21:50:00.385289\n",
       "128   2020-08-25 21:50:07.518064\n",
       "129   2020-08-25 21:50:15.726674\n",
       "Name: time, dtype: datetime64[ns]"
      ]
     },
     "execution_count": 78,
     "metadata": {},
     "output_type": "execute_result"
    }
   ],
   "source": [
    "col_vals = df['time'][df['el'] <= 6]\n",
    "col_vals"
   ]
  },
  {
   "cell_type": "markdown",
   "metadata": {},
   "source": [
    "To select all rows with non NaN values in a column:"
   ]
  },
  {
   "cell_type": "code",
   "execution_count": 100,
   "metadata": {},
   "outputs": [],
   "source": [
    "df_not_nan = df[df['el'].notnull()]"
   ]
  },
  {
   "cell_type": "markdown",
   "metadata": {},
   "source": [
    "Note, when subsetting the data, the rows keep their indices from the orginal dataframe. So if you want to loop over rows in a dataframe, i would recommend looping over the index:"
   ]
  },
  {
   "cell_type": "code",
   "execution_count": 87,
   "metadata": {},
   "outputs": [
    {
     "name": "stdout",
     "output_type": "stream",
     "text": [
      "2008-12-13 18:09:36\n",
      "2008-12-13 18:49:36\n",
      "2008-12-13 14:09:36\n",
      "2008-12-13 14:49:37\n",
      "2008-12-13 17:29:36\n",
      "2008-12-13 18:09:36\n"
     ]
    }
   ],
   "source": [
    "for i in new_df.index:\n",
    "    print(new_df['time'][i])"
   ]
  },
  {
   "cell_type": "markdown",
   "metadata": {},
   "source": [
    "Also, a cool trick I learnt is to use enumerate when you do a for loop, this gives you the number of the iteration and the value, e.g."
   ]
  },
  {
   "cell_type": "code",
   "execution_count": 89,
   "metadata": {},
   "outputs": [
    {
     "name": "stdout",
     "output_type": "stream",
     "text": [
      "0 40\n",
      "1 41\n",
      "2 76\n",
      "3 77\n",
      "4 81\n",
      "5 82\n"
     ]
    }
   ],
   "source": [
    "for n, i in enumerate(new_df.index):\n",
    "    print(n, i)"
   ]
  },
  {
   "cell_type": "markdown",
   "metadata": {},
   "source": [
    "You can also get an array of a dataframe column, which you can index as normal:"
   ]
  },
  {
   "cell_type": "code",
   "execution_count": 94,
   "metadata": {},
   "outputs": [
    {
     "data": {
      "text/plain": [
       "array([20.44518089, 20.62249184, 20.48875809, 21.86639214, 20.97836876,\n",
       "       22.34011459])"
      ]
     },
     "execution_count": 94,
     "metadata": {},
     "output_type": "execute_result"
    }
   ],
   "source": [
    "new_df['el'].values"
   ]
  },
  {
   "cell_type": "code",
   "execution_count": 95,
   "metadata": {},
   "outputs": [
    {
     "data": {
      "text/plain": [
       "20.445180892944336"
      ]
     },
     "execution_count": 95,
     "metadata": {},
     "output_type": "execute_result"
    }
   ],
   "source": [
    "new_df['el'].values[0]"
   ]
  },
  {
   "cell_type": "markdown",
   "metadata": {},
   "source": [
    "To find a list of unique values in a column:"
   ]
  },
  {
   "cell_type": "code",
   "execution_count": 96,
   "metadata": {},
   "outputs": [
    {
     "data": {
      "text/plain": [
       "array(['Draw INNER front', 'Draw OUTER front', 'Draw THIRD front',\n",
       "       'Imaginary'], dtype=object)"
      ]
     },
     "execution_count": 96,
     "metadata": {},
     "output_type": "execute_result"
    }
   ],
   "source": [
    "df['front'].unique()"
   ]
  },
  {
   "cell_type": "markdown",
   "metadata": {},
   "source": [
    "## Adding / removing data"
   ]
  },
  {
   "cell_type": "markdown",
   "metadata": {},
   "source": [
    "You can add a new column to the dataframe quite easily:"
   ]
  },
  {
   "cell_type": "code",
   "execution_count": 31,
   "metadata": {},
   "outputs": [],
   "source": [
    "new_col_vals = range(0, 126)\n",
    "df['new_column'] = new_col_vals"
   ]
  },
  {
   "cell_type": "markdown",
   "metadata": {},
   "source": [
    "You can make a new column from existing column values:"
   ]
  },
  {
   "cell_type": "code",
   "execution_count": 34,
   "metadata": {},
   "outputs": [],
   "source": [
    "df[\"el_plus_el_hi\"] = df[\"el\"] + df[\"el_hi\"]"
   ]
  },
  {
   "cell_type": "markdown",
   "metadata": {},
   "source": [
    "To add a new row to a dataframe:"
   ]
  },
  {
   "cell_type": "code",
   "execution_count": 66,
   "metadata": {},
   "outputs": [
    {
     "data": {
      "text/html": [
       "<div>\n",
       "<style scoped>\n",
       "    .dataframe tbody tr th:only-of-type {\n",
       "        vertical-align: middle;\n",
       "    }\n",
       "\n",
       "    .dataframe tbody tr th {\n",
       "        vertical-align: top;\n",
       "    }\n",
       "\n",
       "    .dataframe thead th {\n",
       "        text-align: right;\n",
       "    }\n",
       "</style>\n",
       "<table border=\"1\" class=\"dataframe\">\n",
       "  <thead>\n",
       "    <tr style=\"text-align: right;\">\n",
       "      <th></th>\n",
       "      <th>Unnamed: 0</th>\n",
       "      <th>time</th>\n",
       "      <th>front</th>\n",
       "      <th>el</th>\n",
       "      <th>el_lo</th>\n",
       "      <th>el_hi</th>\n",
       "      <th>new_column</th>\n",
       "      <th>el_plus_el_hi</th>\n",
       "    </tr>\n",
       "  </thead>\n",
       "  <tbody>\n",
       "    <tr>\n",
       "      <th>126</th>\n",
       "      <td>1099</td>\n",
       "      <td>2020-08-25 21:32:24.964344</td>\n",
       "      <td>Imaginary</td>\n",
       "      <td>5.0</td>\n",
       "      <td>4.0</td>\n",
       "      <td>6.0</td>\n",
       "      <td>NaN</td>\n",
       "      <td>NaN</td>\n",
       "    </tr>\n",
       "    <tr>\n",
       "      <th>127</th>\n",
       "      <td>1099</td>\n",
       "      <td>2020-08-25 21:50:00.385289</td>\n",
       "      <td>Imaginary</td>\n",
       "      <td>5.0</td>\n",
       "      <td>4.0</td>\n",
       "      <td>6.0</td>\n",
       "      <td>NaN</td>\n",
       "      <td>NaN</td>\n",
       "    </tr>\n",
       "    <tr>\n",
       "      <th>128</th>\n",
       "      <td>1099</td>\n",
       "      <td>2020-08-25 21:50:07.518064</td>\n",
       "      <td>Imaginary</td>\n",
       "      <td>5.0</td>\n",
       "      <td>4.0</td>\n",
       "      <td>6.0</td>\n",
       "      <td>NaN</td>\n",
       "      <td>NaN</td>\n",
       "    </tr>\n",
       "    <tr>\n",
       "      <th>129</th>\n",
       "      <td>1099</td>\n",
       "      <td>2020-08-25 21:50:15.726674</td>\n",
       "      <td>Imaginary</td>\n",
       "      <td>5.0</td>\n",
       "      <td>4.0</td>\n",
       "      <td>6.0</td>\n",
       "      <td>NaN</td>\n",
       "      <td>NaN</td>\n",
       "    </tr>\n",
       "  </tbody>\n",
       "</table>\n",
       "</div>"
      ],
      "text/plain": [
       "     Unnamed: 0                       time      front   el  el_lo  el_hi  \\\n",
       "126        1099 2020-08-25 21:32:24.964344  Imaginary  5.0    4.0    6.0   \n",
       "127        1099 2020-08-25 21:50:00.385289  Imaginary  5.0    4.0    6.0   \n",
       "128        1099 2020-08-25 21:50:07.518064  Imaginary  5.0    4.0    6.0   \n",
       "129        1099 2020-08-25 21:50:15.726674  Imaginary  5.0    4.0    6.0   \n",
       "\n",
       "     new_column  el_plus_el_hi  \n",
       "126         NaN            NaN  \n",
       "127         NaN            NaN  \n",
       "128         NaN            NaN  \n",
       "129         NaN            NaN  "
      ]
     },
     "execution_count": 66,
     "metadata": {},
     "output_type": "execute_result"
    }
   ],
   "source": [
    "df = df.append({'Unnamed: 0' : 1099,\n",
    "                'time' : datetime.now(),\n",
    "                'front' : 'Imaginary',\n",
    "                'el' : 5,\n",
    "                'el_hi' : 6,\n",
    "                'el_lo' : 4}, ignore_index=True)\n",
    "df[df['Unnamed: 0'] == 1099]"
   ]
  },
  {
   "cell_type": "markdown",
   "metadata": {},
   "source": [
    "To remove a column or row:"
   ]
  },
  {
   "cell_type": "code",
   "execution_count": null,
   "metadata": {},
   "outputs": [],
   "source": [
    "df = df.drop(columns=['Unnamed: 0'])"
   ]
  },
  {
   "cell_type": "code",
   "execution_count": 71,
   "metadata": {},
   "outputs": [],
   "source": [
    "df = df.drop([126])"
   ]
  },
  {
   "cell_type": "markdown",
   "metadata": {},
   "source": [
    "To remove rows containing NaNs in the el column:"
   ]
  },
  {
   "cell_type": "code",
   "execution_count": 122,
   "metadata": {},
   "outputs": [],
   "source": [
    "df = df.dropna(subset=['el'])"
   ]
  },
  {
   "cell_type": "markdown",
   "metadata": {},
   "source": [
    "## Other ways of making dataframes"
   ]
  },
  {
   "cell_type": "markdown",
   "metadata": {},
   "source": [
    "You can make a dataframe from a few arrays, e.g."
   ]
  },
  {
   "cell_type": "code",
   "execution_count": 113,
   "metadata": {},
   "outputs": [
    {
     "data": {
      "text/html": [
       "<div>\n",
       "<style scoped>\n",
       "    .dataframe tbody tr th:only-of-type {\n",
       "        vertical-align: middle;\n",
       "    }\n",
       "\n",
       "    .dataframe tbody tr th {\n",
       "        vertical-align: top;\n",
       "    }\n",
       "\n",
       "    .dataframe thead th {\n",
       "        text-align: right;\n",
       "    }\n",
       "</style>\n",
       "<table border=\"1\" class=\"dataframe\">\n",
       "  <thead>\n",
       "    <tr style=\"text-align: right;\">\n",
       "      <th></th>\n",
       "      <th>house</th>\n",
       "      <th>galleons</th>\n",
       "      <th>name</th>\n",
       "    </tr>\n",
       "  </thead>\n",
       "  <tbody>\n",
       "    <tr>\n",
       "      <th>0</th>\n",
       "      <td>Gryffindor</td>\n",
       "      <td>65</td>\n",
       "      <td>Harry</td>\n",
       "    </tr>\n",
       "    <tr>\n",
       "      <th>1</th>\n",
       "      <td>Gryffindor</td>\n",
       "      <td>2</td>\n",
       "      <td>Hagrid</td>\n",
       "    </tr>\n",
       "    <tr>\n",
       "      <th>2</th>\n",
       "      <td>Ravenclaw</td>\n",
       "      <td>8</td>\n",
       "      <td>Luna</td>\n",
       "    </tr>\n",
       "    <tr>\n",
       "      <th>3</th>\n",
       "      <td>Slytherin</td>\n",
       "      <td>107</td>\n",
       "      <td>Draco</td>\n",
       "    </tr>\n",
       "  </tbody>\n",
       "</table>\n",
       "</div>"
      ],
      "text/plain": [
       "        house  galleons    name\n",
       "0  Gryffindor        65   Harry\n",
       "1  Gryffindor         2  Hagrid\n",
       "2   Ravenclaw         8    Luna\n",
       "3   Slytherin       107   Draco"
      ]
     },
     "execution_count": 113,
     "metadata": {},
     "output_type": "execute_result"
    }
   ],
   "source": [
    "houses = ['Gryffindor', 'Gryffindor', 'Ravenclaw', 'Slytherin']\n",
    "galleons = [65, 2, 8, 107]\n",
    "names = ['Harry', 'Hagrid', 'Luna', 'Draco']\n",
    "hp_df = pd.DataFrame({'house' : houses, 'galleons' : galleons, 'name' : names})\n",
    "hp_df"
   ]
  },
  {
   "cell_type": "markdown",
   "metadata": {},
   "source": [
    "You can merge two dataframes together, e.g."
   ]
  },
  {
   "cell_type": "code",
   "execution_count": 116,
   "metadata": {},
   "outputs": [
    {
     "data": {
      "text/html": [
       "<div>\n",
       "<style scoped>\n",
       "    .dataframe tbody tr th:only-of-type {\n",
       "        vertical-align: middle;\n",
       "    }\n",
       "\n",
       "    .dataframe tbody tr th {\n",
       "        vertical-align: top;\n",
       "    }\n",
       "\n",
       "    .dataframe thead th {\n",
       "        text-align: right;\n",
       "    }\n",
       "</style>\n",
       "<table border=\"1\" class=\"dataframe\">\n",
       "  <thead>\n",
       "    <tr style=\"text-align: right;\">\n",
       "      <th></th>\n",
       "      <th>name</th>\n",
       "      <th>pet</th>\n",
       "    </tr>\n",
       "  </thead>\n",
       "  <tbody>\n",
       "    <tr>\n",
       "      <th>0</th>\n",
       "      <td>Harry</td>\n",
       "      <td>owl</td>\n",
       "    </tr>\n",
       "    <tr>\n",
       "      <th>1</th>\n",
       "      <td>Hagrid</td>\n",
       "      <td>dragon</td>\n",
       "    </tr>\n",
       "    <tr>\n",
       "      <th>2</th>\n",
       "      <td>Luna</td>\n",
       "      <td>crumple-horned snorkack</td>\n",
       "    </tr>\n",
       "    <tr>\n",
       "      <th>3</th>\n",
       "      <td>Draco</td>\n",
       "      <td>owl</td>\n",
       "    </tr>\n",
       "  </tbody>\n",
       "</table>\n",
       "</div>"
      ],
      "text/plain": [
       "     name                      pet\n",
       "0   Harry                      owl\n",
       "1  Hagrid                   dragon\n",
       "2    Luna  crumple-horned snorkack\n",
       "3   Draco                      owl"
      ]
     },
     "execution_count": 116,
     "metadata": {},
     "output_type": "execute_result"
    }
   ],
   "source": [
    "hp_df2 = pd.DataFrame({'name' : names, 'pet' : ['owl', 'dragon', 'crumple-horned snorkack', 'owl']})\n",
    "hp_df2"
   ]
  },
  {
   "cell_type": "code",
   "execution_count": 119,
   "metadata": {},
   "outputs": [
    {
     "data": {
      "text/html": [
       "<div>\n",
       "<style scoped>\n",
       "    .dataframe tbody tr th:only-of-type {\n",
       "        vertical-align: middle;\n",
       "    }\n",
       "\n",
       "    .dataframe tbody tr th {\n",
       "        vertical-align: top;\n",
       "    }\n",
       "\n",
       "    .dataframe thead th {\n",
       "        text-align: right;\n",
       "    }\n",
       "</style>\n",
       "<table border=\"1\" class=\"dataframe\">\n",
       "  <thead>\n",
       "    <tr style=\"text-align: right;\">\n",
       "      <th></th>\n",
       "      <th>house</th>\n",
       "      <th>galleons</th>\n",
       "      <th>name</th>\n",
       "      <th>pet</th>\n",
       "    </tr>\n",
       "  </thead>\n",
       "  <tbody>\n",
       "    <tr>\n",
       "      <th>0</th>\n",
       "      <td>Gryffindor</td>\n",
       "      <td>65</td>\n",
       "      <td>Harry</td>\n",
       "      <td>owl</td>\n",
       "    </tr>\n",
       "    <tr>\n",
       "      <th>1</th>\n",
       "      <td>Gryffindor</td>\n",
       "      <td>2</td>\n",
       "      <td>Hagrid</td>\n",
       "      <td>dragon</td>\n",
       "    </tr>\n",
       "    <tr>\n",
       "      <th>2</th>\n",
       "      <td>Ravenclaw</td>\n",
       "      <td>8</td>\n",
       "      <td>Luna</td>\n",
       "      <td>crumple-horned snorkack</td>\n",
       "    </tr>\n",
       "    <tr>\n",
       "      <th>3</th>\n",
       "      <td>Slytherin</td>\n",
       "      <td>107</td>\n",
       "      <td>Draco</td>\n",
       "      <td>owl</td>\n",
       "    </tr>\n",
       "  </tbody>\n",
       "</table>\n",
       "</div>"
      ],
      "text/plain": [
       "        house  galleons    name                      pet\n",
       "0  Gryffindor        65   Harry                      owl\n",
       "1  Gryffindor         2  Hagrid                   dragon\n",
       "2   Ravenclaw         8    Luna  crumple-horned snorkack\n",
       "3   Slytherin       107   Draco                      owl"
      ]
     },
     "execution_count": 119,
     "metadata": {},
     "output_type": "execute_result"
    }
   ],
   "source": [
    "hp_df3 = pd.merge(hp_df, hp_df2, on='name')\n",
    "hp_df3"
   ]
  },
  {
   "cell_type": "markdown",
   "metadata": {},
   "source": [
    "## Other stuff "
   ]
  },
  {
   "cell_type": "markdown",
   "metadata": {},
   "source": [
    "You can sort the dataframe rows by their values in a column:"
   ]
  },
  {
   "cell_type": "code",
   "execution_count": 125,
   "metadata": {},
   "outputs": [],
   "source": [
    "df = df.sort_values(by='el')"
   ]
  },
  {
   "cell_type": "markdown",
   "metadata": {},
   "source": [
    "You can check whether a dataframe contains any rows - this is useful because often code will throw an error when this happens. df.empty will be True if there are no rows, and False if there are rows."
   ]
  },
  {
   "cell_type": "code",
   "execution_count": 127,
   "metadata": {},
   "outputs": [
    {
     "data": {
      "text/plain": [
       "False"
      ]
     },
     "execution_count": 127,
     "metadata": {},
     "output_type": "execute_result"
    }
   ],
   "source": [
    "df.empty"
   ]
  },
  {
   "cell_type": "code",
   "execution_count": 140,
   "metadata": {},
   "outputs": [
    {
     "data": {
      "text/plain": [
       "True"
      ]
     },
     "execution_count": 140,
     "metadata": {},
     "output_type": "execute_result"
    }
   ],
   "source": [
    "empty_df = pd.DataFrame({'sorting_hat' : []})\n",
    "empty_df.empty"
   ]
  },
  {
   "cell_type": "markdown",
   "metadata": {},
   "source": [
    "To rename a column"
   ]
  },
  {
   "cell_type": "code",
   "execution_count": 142,
   "metadata": {},
   "outputs": [
    {
     "data": {
      "text/plain": [
       "Index(['Unnamed: 0', 'time', 'front', 'giant_squid', 'el_lo', 'el_hi'], dtype='object')"
      ]
     },
     "execution_count": 142,
     "metadata": {},
     "output_type": "execute_result"
    }
   ],
   "source": [
    "df = df.rename(columns={'el' : 'giant_squid'})\n",
    "df.columns"
   ]
  }
 ],
 "metadata": {
  "kernelspec": {
   "display_name": "Python 3",
   "language": "python",
   "name": "python3"
  },
  "language_info": {
   "codemirror_mode": {
    "name": "ipython",
    "version": 3
   },
   "file_extension": ".py",
   "mimetype": "text/x-python",
   "name": "python",
   "nbconvert_exporter": "python",
   "pygments_lexer": "ipython3",
   "version": "3.7.6"
  }
 },
 "nbformat": 4,
 "nbformat_minor": 4
}
